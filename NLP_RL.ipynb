{
 "cells": [
  {
   "cell_type": "code",
   "execution_count": null,
   "metadata": {},
   "outputs": [],
   "source": [
    "pip install tensorflow"
   ]
  },
  {
   "cell_type": "code",
   "execution_count": 105,
   "metadata": {},
   "outputs": [],
   "source": [
    "import tensorflow as tf\n",
    "from tensorflow.keras.datasets import cifar10\n",
    "from tensorflow.keras.preprocessing.image import ImageDataGenerator\n",
    "from tensorflow.keras.models import Sequential\n",
    "from tensorflow.keras.layers import Dense, Dropout, Activation, Flatten\n",
    "from tensorflow.keras.layers import Conv2D, MaxPooling2D\n",
    "\n",
    "import pickle\n",
    "import pandas as pd\n",
    "import numpy as np"
   ]
  },
  {
   "cell_type": "code",
   "execution_count": 106,
   "metadata": {},
   "outputs": [],
   "source": [
    "df = pd.DataFrame(np.random.randint(0,100, size = (100,4)), columns = list('ABCD'))"
   ]
  },
  {
   "cell_type": "code",
   "execution_count": 107,
   "metadata": {},
   "outputs": [
    {
     "data": {
      "text/html": [
       "<div>\n",
       "<style scoped>\n",
       "    .dataframe tbody tr th:only-of-type {\n",
       "        vertical-align: middle;\n",
       "    }\n",
       "\n",
       "    .dataframe tbody tr th {\n",
       "        vertical-align: top;\n",
       "    }\n",
       "\n",
       "    .dataframe thead th {\n",
       "        text-align: right;\n",
       "    }\n",
       "</style>\n",
       "<table border=\"1\" class=\"dataframe\">\n",
       "  <thead>\n",
       "    <tr style=\"text-align: right;\">\n",
       "      <th></th>\n",
       "      <th>A</th>\n",
       "      <th>B</th>\n",
       "      <th>C</th>\n",
       "      <th>D</th>\n",
       "    </tr>\n",
       "  </thead>\n",
       "  <tbody>\n",
       "    <tr>\n",
       "      <th>0</th>\n",
       "      <td>47</td>\n",
       "      <td>17</td>\n",
       "      <td>54</td>\n",
       "      <td>90</td>\n",
       "    </tr>\n",
       "    <tr>\n",
       "      <th>1</th>\n",
       "      <td>95</td>\n",
       "      <td>71</td>\n",
       "      <td>84</td>\n",
       "      <td>63</td>\n",
       "    </tr>\n",
       "    <tr>\n",
       "      <th>2</th>\n",
       "      <td>81</td>\n",
       "      <td>25</td>\n",
       "      <td>48</td>\n",
       "      <td>35</td>\n",
       "    </tr>\n",
       "    <tr>\n",
       "      <th>3</th>\n",
       "      <td>75</td>\n",
       "      <td>79</td>\n",
       "      <td>14</td>\n",
       "      <td>12</td>\n",
       "    </tr>\n",
       "    <tr>\n",
       "      <th>4</th>\n",
       "      <td>42</td>\n",
       "      <td>91</td>\n",
       "      <td>62</td>\n",
       "      <td>41</td>\n",
       "    </tr>\n",
       "  </tbody>\n",
       "</table>\n",
       "</div>"
      ],
      "text/plain": [
       "    A   B   C   D\n",
       "0  47  17  54  90\n",
       "1  95  71  84  63\n",
       "2  81  25  48  35\n",
       "3  75  79  14  12\n",
       "4  42  91  62  41"
      ]
     },
     "execution_count": 107,
     "metadata": {},
     "output_type": "execute_result"
    }
   ],
   "source": [
    "df.head()"
   ]
  },
  {
   "cell_type": "code",
   "execution_count": 108,
   "metadata": {},
   "outputs": [],
   "source": [
    "mylist = [1,2,3,4,5]"
   ]
  },
  {
   "cell_type": "code",
   "execution_count": 109,
   "metadata": {},
   "outputs": [],
   "source": [
    "se = pd.Series(mylist)"
   ]
  },
  {
   "cell_type": "code",
   "execution_count": 110,
   "metadata": {},
   "outputs": [],
   "source": [
    "df[\"target\"] = np.random.choice(mylist, size = len(df))"
   ]
  },
  {
   "cell_type": "code",
   "execution_count": 111,
   "metadata": {},
   "outputs": [
    {
     "data": {
      "text/html": [
       "<div>\n",
       "<style scoped>\n",
       "    .dataframe tbody tr th:only-of-type {\n",
       "        vertical-align: middle;\n",
       "    }\n",
       "\n",
       "    .dataframe tbody tr th {\n",
       "        vertical-align: top;\n",
       "    }\n",
       "\n",
       "    .dataframe thead th {\n",
       "        text-align: right;\n",
       "    }\n",
       "</style>\n",
       "<table border=\"1\" class=\"dataframe\">\n",
       "  <thead>\n",
       "    <tr style=\"text-align: right;\">\n",
       "      <th></th>\n",
       "      <th>A</th>\n",
       "      <th>B</th>\n",
       "      <th>C</th>\n",
       "      <th>D</th>\n",
       "      <th>target</th>\n",
       "    </tr>\n",
       "  </thead>\n",
       "  <tbody>\n",
       "    <tr>\n",
       "      <th>0</th>\n",
       "      <td>47</td>\n",
       "      <td>17</td>\n",
       "      <td>54</td>\n",
       "      <td>90</td>\n",
       "      <td>5</td>\n",
       "    </tr>\n",
       "    <tr>\n",
       "      <th>1</th>\n",
       "      <td>95</td>\n",
       "      <td>71</td>\n",
       "      <td>84</td>\n",
       "      <td>63</td>\n",
       "      <td>4</td>\n",
       "    </tr>\n",
       "    <tr>\n",
       "      <th>2</th>\n",
       "      <td>81</td>\n",
       "      <td>25</td>\n",
       "      <td>48</td>\n",
       "      <td>35</td>\n",
       "      <td>5</td>\n",
       "    </tr>\n",
       "    <tr>\n",
       "      <th>3</th>\n",
       "      <td>75</td>\n",
       "      <td>79</td>\n",
       "      <td>14</td>\n",
       "      <td>12</td>\n",
       "      <td>1</td>\n",
       "    </tr>\n",
       "    <tr>\n",
       "      <th>4</th>\n",
       "      <td>42</td>\n",
       "      <td>91</td>\n",
       "      <td>62</td>\n",
       "      <td>41</td>\n",
       "      <td>2</td>\n",
       "    </tr>\n",
       "  </tbody>\n",
       "</table>\n",
       "</div>"
      ],
      "text/plain": [
       "    A   B   C   D  target\n",
       "0  47  17  54  90       5\n",
       "1  95  71  84  63       4\n",
       "2  81  25  48  35       5\n",
       "3  75  79  14  12       1\n",
       "4  42  91  62  41       2"
      ]
     },
     "execution_count": 111,
     "metadata": {},
     "output_type": "execute_result"
    }
   ],
   "source": [
    "df.head()"
   ]
  },
  {
   "cell_type": "code",
   "execution_count": 15,
   "metadata": {},
   "outputs": [],
   "source": [
    "import time\n"
   ]
  },
  {
   "cell_type": "code",
   "execution_count": 112,
   "metadata": {},
   "outputs": [
    {
     "data": {
      "text/html": [
       "<div>\n",
       "<style scoped>\n",
       "    .dataframe tbody tr th:only-of-type {\n",
       "        vertical-align: middle;\n",
       "    }\n",
       "\n",
       "    .dataframe tbody tr th {\n",
       "        vertical-align: top;\n",
       "    }\n",
       "\n",
       "    .dataframe thead th {\n",
       "        text-align: right;\n",
       "    }\n",
       "</style>\n",
       "<table border=\"1\" class=\"dataframe\">\n",
       "  <thead>\n",
       "    <tr style=\"text-align: right;\">\n",
       "      <th></th>\n",
       "      <th>A</th>\n",
       "      <th>B</th>\n",
       "      <th>C</th>\n",
       "      <th>D</th>\n",
       "      <th>target</th>\n",
       "    </tr>\n",
       "  </thead>\n",
       "  <tbody>\n",
       "    <tr>\n",
       "      <th>0</th>\n",
       "      <td>47</td>\n",
       "      <td>17</td>\n",
       "      <td>54</td>\n",
       "      <td>90</td>\n",
       "      <td>5</td>\n",
       "    </tr>\n",
       "    <tr>\n",
       "      <th>1</th>\n",
       "      <td>95</td>\n",
       "      <td>71</td>\n",
       "      <td>84</td>\n",
       "      <td>63</td>\n",
       "      <td>4</td>\n",
       "    </tr>\n",
       "    <tr>\n",
       "      <th>2</th>\n",
       "      <td>81</td>\n",
       "      <td>25</td>\n",
       "      <td>48</td>\n",
       "      <td>35</td>\n",
       "      <td>5</td>\n",
       "    </tr>\n",
       "    <tr>\n",
       "      <th>3</th>\n",
       "      <td>75</td>\n",
       "      <td>79</td>\n",
       "      <td>14</td>\n",
       "      <td>12</td>\n",
       "      <td>1</td>\n",
       "    </tr>\n",
       "    <tr>\n",
       "      <th>4</th>\n",
       "      <td>42</td>\n",
       "      <td>91</td>\n",
       "      <td>62</td>\n",
       "      <td>41</td>\n",
       "      <td>2</td>\n",
       "    </tr>\n",
       "    <tr>\n",
       "      <th>...</th>\n",
       "      <td>...</td>\n",
       "      <td>...</td>\n",
       "      <td>...</td>\n",
       "      <td>...</td>\n",
       "      <td>...</td>\n",
       "    </tr>\n",
       "    <tr>\n",
       "      <th>95</th>\n",
       "      <td>50</td>\n",
       "      <td>8</td>\n",
       "      <td>62</td>\n",
       "      <td>53</td>\n",
       "      <td>1</td>\n",
       "    </tr>\n",
       "    <tr>\n",
       "      <th>96</th>\n",
       "      <td>46</td>\n",
       "      <td>77</td>\n",
       "      <td>85</td>\n",
       "      <td>94</td>\n",
       "      <td>2</td>\n",
       "    </tr>\n",
       "    <tr>\n",
       "      <th>97</th>\n",
       "      <td>23</td>\n",
       "      <td>1</td>\n",
       "      <td>53</td>\n",
       "      <td>12</td>\n",
       "      <td>5</td>\n",
       "    </tr>\n",
       "    <tr>\n",
       "      <th>98</th>\n",
       "      <td>5</td>\n",
       "      <td>44</td>\n",
       "      <td>39</td>\n",
       "      <td>34</td>\n",
       "      <td>2</td>\n",
       "    </tr>\n",
       "    <tr>\n",
       "      <th>99</th>\n",
       "      <td>9</td>\n",
       "      <td>60</td>\n",
       "      <td>61</td>\n",
       "      <td>27</td>\n",
       "      <td>1</td>\n",
       "    </tr>\n",
       "  </tbody>\n",
       "</table>\n",
       "<p>100 rows × 5 columns</p>\n",
       "</div>"
      ],
      "text/plain": [
       "     A   B   C   D  target\n",
       "0   47  17  54  90       5\n",
       "1   95  71  84  63       4\n",
       "2   81  25  48  35       5\n",
       "3   75  79  14  12       1\n",
       "4   42  91  62  41       2\n",
       "..  ..  ..  ..  ..     ...\n",
       "95  50   8  62  53       1\n",
       "96  46  77  85  94       2\n",
       "97  23   1  53  12       5\n",
       "98   5  44  39  34       2\n",
       "99   9  60  61  27       1\n",
       "\n",
       "[100 rows x 5 columns]"
      ]
     },
     "execution_count": 112,
     "metadata": {},
     "output_type": "execute_result"
    }
   ],
   "source": [
    "df"
   ]
  },
  {
   "cell_type": "code",
   "execution_count": 113,
   "metadata": {},
   "outputs": [],
   "source": [
    "cols = list(df.columns)\n",
    "cols = [cols[-1]] + cols[:-1]\n",
    "df = df[cols]"
   ]
  },
  {
   "cell_type": "code",
   "execution_count": 114,
   "metadata": {},
   "outputs": [
    {
     "data": {
      "text/html": [
       "<div>\n",
       "<style scoped>\n",
       "    .dataframe tbody tr th:only-of-type {\n",
       "        vertical-align: middle;\n",
       "    }\n",
       "\n",
       "    .dataframe tbody tr th {\n",
       "        vertical-align: top;\n",
       "    }\n",
       "\n",
       "    .dataframe thead th {\n",
       "        text-align: right;\n",
       "    }\n",
       "</style>\n",
       "<table border=\"1\" class=\"dataframe\">\n",
       "  <thead>\n",
       "    <tr style=\"text-align: right;\">\n",
       "      <th></th>\n",
       "      <th>target</th>\n",
       "      <th>A</th>\n",
       "      <th>B</th>\n",
       "      <th>C</th>\n",
       "      <th>D</th>\n",
       "    </tr>\n",
       "  </thead>\n",
       "  <tbody>\n",
       "    <tr>\n",
       "      <th>0</th>\n",
       "      <td>5</td>\n",
       "      <td>47</td>\n",
       "      <td>17</td>\n",
       "      <td>54</td>\n",
       "      <td>90</td>\n",
       "    </tr>\n",
       "    <tr>\n",
       "      <th>1</th>\n",
       "      <td>4</td>\n",
       "      <td>95</td>\n",
       "      <td>71</td>\n",
       "      <td>84</td>\n",
       "      <td>63</td>\n",
       "    </tr>\n",
       "    <tr>\n",
       "      <th>2</th>\n",
       "      <td>5</td>\n",
       "      <td>81</td>\n",
       "      <td>25</td>\n",
       "      <td>48</td>\n",
       "      <td>35</td>\n",
       "    </tr>\n",
       "    <tr>\n",
       "      <th>3</th>\n",
       "      <td>1</td>\n",
       "      <td>75</td>\n",
       "      <td>79</td>\n",
       "      <td>14</td>\n",
       "      <td>12</td>\n",
       "    </tr>\n",
       "    <tr>\n",
       "      <th>4</th>\n",
       "      <td>2</td>\n",
       "      <td>42</td>\n",
       "      <td>91</td>\n",
       "      <td>62</td>\n",
       "      <td>41</td>\n",
       "    </tr>\n",
       "  </tbody>\n",
       "</table>\n",
       "</div>"
      ],
      "text/plain": [
       "   target   A   B   C   D\n",
       "0       5  47  17  54  90\n",
       "1       4  95  71  84  63\n",
       "2       5  81  25  48  35\n",
       "3       1  75  79  14  12\n",
       "4       2  42  91  62  41"
      ]
     },
     "execution_count": 114,
     "metadata": {},
     "output_type": "execute_result"
    }
   ],
   "source": [
    "df.head()"
   ]
  },
  {
   "cell_type": "code",
   "execution_count": 115,
   "metadata": {},
   "outputs": [],
   "source": [
    "feature_cols = ['A', 'B', 'C', 'D']"
   ]
  },
  {
   "cell_type": "code",
   "execution_count": 116,
   "metadata": {},
   "outputs": [],
   "source": [
    "X = df.loc[:, feature_cols]\n"
   ]
  },
  {
   "cell_type": "code",
   "execution_count": 117,
   "metadata": {},
   "outputs": [
    {
     "data": {
      "text/plain": [
       "(100, 4)"
      ]
     },
     "execution_count": 117,
     "metadata": {},
     "output_type": "execute_result"
    }
   ],
   "source": [
    "X.shape"
   ]
  },
  {
   "cell_type": "code",
   "execution_count": 118,
   "metadata": {},
   "outputs": [],
   "source": [
    "y = df.target"
   ]
  },
  {
   "cell_type": "code",
   "execution_count": 119,
   "metadata": {},
   "outputs": [
    {
     "data": {
      "text/plain": [
       "0    5\n",
       "1    4\n",
       "2    5\n",
       "3    1\n",
       "4    2\n",
       "Name: target, dtype: int64"
      ]
     },
     "execution_count": 119,
     "metadata": {},
     "output_type": "execute_result"
    }
   ],
   "source": [
    "y.head()"
   ]
  },
  {
   "cell_type": "code",
   "execution_count": 123,
   "metadata": {},
   "outputs": [],
   "source": [
    "\n",
    "model = tf.keras.models.Sequential()  # a basic feed-forward model\n",
    "model.add(tf.keras.layers.Flatten())  # takes our 28x28 and makes it 1x784\n",
    "model.add(tf.keras.layers.Dense(128, activation=tf.nn.relu))  # a simple fully-connected layer, 128 units, relu activation\n",
    "model.add(tf.keras.layers.Dense(128, activation=tf.nn.relu))  # a simple fully-connected layer, 128 units, relu activation\n",
    "model.add(tf.keras.layers.Dense(6, activation=tf.nn.softmax))"
   ]
  },
  {
   "cell_type": "code",
   "execution_count": 124,
   "metadata": {},
   "outputs": [],
   "source": [
    "model.compile(optimizer='adam',  # Good default optimizer to start with\n",
    "              loss='sparse_categorical_crossentropy',  # how will we calculate our \"error.\" Neural network aims to minimize loss.\n",
    "              metrics=['accuracy'])  # what to track"
   ]
  },
  {
   "cell_type": "code",
   "execution_count": 125,
   "metadata": {},
   "outputs": [
    {
     "name": "stdout",
     "output_type": "stream",
     "text": [
      "Epoch 1/3\n",
      "4/4 [==============================] - 0s 3ms/step - loss: 8.8991 - accuracy: 0.2500\n",
      "Epoch 2/3\n",
      "4/4 [==============================] - 0s 1ms/step - loss: 3.7671 - accuracy: 0.2000\n",
      "Epoch 3/3\n",
      "4/4 [==============================] - 0s 1ms/step - loss: 3.8101 - accuracy: 0.2700\n"
     ]
    },
    {
     "data": {
      "text/plain": [
       "<tensorflow.python.keras.callbacks.History at 0x6424602d0>"
      ]
     },
     "execution_count": 125,
     "metadata": {},
     "output_type": "execute_result"
    }
   ],
   "source": [
    "model.fit(X, y, epochs=3)  # train the model"
   ]
  },
  {
   "cell_type": "code",
   "execution_count": 126,
   "metadata": {},
   "outputs": [
    {
     "name": "stdout",
     "output_type": "stream",
     "text": [
      "INFO:tensorflow:Assets written to: nlp_test.model/assets\n"
     ]
    }
   ],
   "source": [
    "model.save('nlp_test.model')\n"
   ]
  },
  {
   "cell_type": "code",
   "execution_count": 127,
   "metadata": {},
   "outputs": [],
   "source": [
    "new_model = tf.keras.models.load_model('nlp_test.model')"
   ]
  },
  {
   "cell_type": "code",
   "execution_count": 128,
   "metadata": {},
   "outputs": [
    {
     "data": {
      "text/html": [
       "<div>\n",
       "<style scoped>\n",
       "    .dataframe tbody tr th:only-of-type {\n",
       "        vertical-align: middle;\n",
       "    }\n",
       "\n",
       "    .dataframe tbody tr th {\n",
       "        vertical-align: top;\n",
       "    }\n",
       "\n",
       "    .dataframe thead th {\n",
       "        text-align: right;\n",
       "    }\n",
       "</style>\n",
       "<table border=\"1\" class=\"dataframe\">\n",
       "  <thead>\n",
       "    <tr style=\"text-align: right;\">\n",
       "      <th></th>\n",
       "      <th>A</th>\n",
       "      <th>B</th>\n",
       "      <th>C</th>\n",
       "      <th>D</th>\n",
       "    </tr>\n",
       "  </thead>\n",
       "  <tbody>\n",
       "    <tr>\n",
       "      <th>0</th>\n",
       "      <td>47</td>\n",
       "      <td>17</td>\n",
       "      <td>54</td>\n",
       "      <td>90</td>\n",
       "    </tr>\n",
       "    <tr>\n",
       "      <th>1</th>\n",
       "      <td>95</td>\n",
       "      <td>71</td>\n",
       "      <td>84</td>\n",
       "      <td>63</td>\n",
       "    </tr>\n",
       "    <tr>\n",
       "      <th>2</th>\n",
       "      <td>81</td>\n",
       "      <td>25</td>\n",
       "      <td>48</td>\n",
       "      <td>35</td>\n",
       "    </tr>\n",
       "    <tr>\n",
       "      <th>3</th>\n",
       "      <td>75</td>\n",
       "      <td>79</td>\n",
       "      <td>14</td>\n",
       "      <td>12</td>\n",
       "    </tr>\n",
       "    <tr>\n",
       "      <th>4</th>\n",
       "      <td>42</td>\n",
       "      <td>91</td>\n",
       "      <td>62</td>\n",
       "      <td>41</td>\n",
       "    </tr>\n",
       "    <tr>\n",
       "      <th>...</th>\n",
       "      <td>...</td>\n",
       "      <td>...</td>\n",
       "      <td>...</td>\n",
       "      <td>...</td>\n",
       "    </tr>\n",
       "    <tr>\n",
       "      <th>95</th>\n",
       "      <td>50</td>\n",
       "      <td>8</td>\n",
       "      <td>62</td>\n",
       "      <td>53</td>\n",
       "    </tr>\n",
       "    <tr>\n",
       "      <th>96</th>\n",
       "      <td>46</td>\n",
       "      <td>77</td>\n",
       "      <td>85</td>\n",
       "      <td>94</td>\n",
       "    </tr>\n",
       "    <tr>\n",
       "      <th>97</th>\n",
       "      <td>23</td>\n",
       "      <td>1</td>\n",
       "      <td>53</td>\n",
       "      <td>12</td>\n",
       "    </tr>\n",
       "    <tr>\n",
       "      <th>98</th>\n",
       "      <td>5</td>\n",
       "      <td>44</td>\n",
       "      <td>39</td>\n",
       "      <td>34</td>\n",
       "    </tr>\n",
       "    <tr>\n",
       "      <th>99</th>\n",
       "      <td>9</td>\n",
       "      <td>60</td>\n",
       "      <td>61</td>\n",
       "      <td>27</td>\n",
       "    </tr>\n",
       "  </tbody>\n",
       "</table>\n",
       "<p>100 rows × 4 columns</p>\n",
       "</div>"
      ],
      "text/plain": [
       "     A   B   C   D\n",
       "0   47  17  54  90\n",
       "1   95  71  84  63\n",
       "2   81  25  48  35\n",
       "3   75  79  14  12\n",
       "4   42  91  62  41\n",
       "..  ..  ..  ..  ..\n",
       "95  50   8  62  53\n",
       "96  46  77  85  94\n",
       "97  23   1  53  12\n",
       "98   5  44  39  34\n",
       "99   9  60  61  27\n",
       "\n",
       "[100 rows x 4 columns]"
      ]
     },
     "execution_count": 128,
     "metadata": {},
     "output_type": "execute_result"
    }
   ],
   "source": [
    "X"
   ]
  },
  {
   "cell_type": "code",
   "execution_count": 129,
   "metadata": {},
   "outputs": [],
   "source": [
    "x_test = X.head(20)"
   ]
  },
  {
   "cell_type": "code",
   "execution_count": 130,
   "metadata": {},
   "outputs": [],
   "source": [
    "x_test = X.head(20)"
   ]
  },
  {
   "cell_type": "code",
   "execution_count": 131,
   "metadata": {},
   "outputs": [],
   "source": [
    "x_test = x_test.to_numpy()"
   ]
  },
  {
   "cell_type": "code",
   "execution_count": 132,
   "metadata": {},
   "outputs": [
    {
     "data": {
      "text/plain": [
       "array([[47, 17, 54, 90],\n",
       "       [95, 71, 84, 63],\n",
       "       [81, 25, 48, 35],\n",
       "       [75, 79, 14, 12],\n",
       "       [42, 91, 62, 41],\n",
       "       [ 7, 83, 62, 58],\n",
       "       [50,  1, 66, 31],\n",
       "       [43, 36,  8, 95],\n",
       "       [42, 27, 81, 95],\n",
       "       [73, 13,  5, 25],\n",
       "       [46, 61, 96, 27],\n",
       "       [12, 96, 97, 50],\n",
       "       [22, 44, 81, 63],\n",
       "       [65,  0, 91, 90],\n",
       "       [12, 74, 34, 48],\n",
       "       [60, 77, 94, 72],\n",
       "       [ 7, 42,  8, 62],\n",
       "       [52, 54, 89, 26],\n",
       "       [48, 82, 51,  3],\n",
       "       [10, 15, 42, 73]])"
      ]
     },
     "execution_count": 132,
     "metadata": {},
     "output_type": "execute_result"
    }
   ],
   "source": [
    "x_test"
   ]
  },
  {
   "cell_type": "code",
   "execution_count": 133,
   "metadata": {},
   "outputs": [],
   "source": [
    "predictions = new_model.predict(x_test)"
   ]
  },
  {
   "cell_type": "code",
   "execution_count": 151,
   "metadata": {},
   "outputs": [
    {
     "data": {
      "text/plain": [
       "array([[1.68902643e-05, 8.97302572e-03, 2.89548677e-03, 4.19625826e-02,\n",
       "        8.10351670e-01, 1.35800347e-01],\n",
       "       [1.42803483e-05, 4.48132958e-03, 6.02494460e-04, 5.46296798e-02,\n",
       "        9.36008990e-01, 4.26325947e-03],\n",
       "       [7.83943280e-04, 2.35293120e-01, 7.11715072e-02, 5.46975732e-01,\n",
       "        5.79619072e-02, 8.78137425e-02],\n",
       "       [3.78038891e-07, 7.66366363e-01, 3.29913193e-04, 2.13747486e-01,\n",
       "        1.54992538e-02, 4.05669212e-03],\n",
       "       [1.24655562e-05, 1.19096381e-04, 1.21080894e-02, 6.80591166e-02,\n",
       "        8.24447751e-01, 9.52534899e-02],\n",
       "       [5.42725611e-05, 2.87921692e-04, 5.61224997e-01, 3.43238637e-02,\n",
       "        1.01409927e-01, 3.02699000e-01],\n",
       "       [3.16483376e-04, 2.85629127e-02, 1.40342722e-02, 2.03391418e-01,\n",
       "        7.35952616e-01, 1.77422892e-02],\n",
       "       [3.26176905e-06, 4.01226096e-02, 6.40280321e-02, 1.04667939e-01,\n",
       "        7.71102011e-01, 2.00761762e-02],\n",
       "       [1.47443934e-05, 4.47248295e-03, 7.98664708e-03, 5.66514209e-02,\n",
       "        6.63161576e-01, 2.67713159e-01],\n",
       "       [1.06627813e-04, 3.14504385e-01, 6.81805238e-02, 3.96682113e-01,\n",
       "        1.55372269e-04, 2.20370978e-01],\n",
       "       [7.93869185e-05, 4.14454006e-03, 2.38820929e-02, 1.41531527e-02,\n",
       "        7.89208710e-01, 1.68532059e-01],\n",
       "       [2.75165098e-06, 1.03888480e-04, 3.83696884e-01, 6.14956208e-03,\n",
       "        1.49106532e-01, 4.60940391e-01],\n",
       "       [6.76734853e-05, 3.32601443e-02, 4.57216911e-02, 8.11618790e-02,\n",
       "        4.56558317e-01, 3.83230299e-01],\n",
       "       [4.01320540e-06, 1.28272949e-02, 1.90801872e-03, 2.91775987e-02,\n",
       "        9.06022847e-01, 5.00602685e-02],\n",
       "       [2.44550611e-04, 3.67622648e-04, 6.25793517e-01, 3.58156487e-02,\n",
       "        1.81046456e-01, 1.56732276e-01],\n",
       "       [2.19136018e-05, 3.65972333e-03, 4.54341527e-03, 1.40363470e-01,\n",
       "        7.32375205e-01, 1.19036295e-01],\n",
       "       [2.42603346e-04, 1.37894787e-02, 2.75632679e-01, 9.02864039e-02,\n",
       "        5.20879090e-01, 9.91697237e-02],\n",
       "       [1.78645481e-04, 8.09965748e-03, 3.42474878e-02, 4.05858792e-02,\n",
       "        8.07645559e-01, 1.09242834e-01],\n",
       "       [5.50870652e-07, 8.64433649e-04, 8.49989592e-04, 3.16465050e-02,\n",
       "        9.52176154e-01, 1.44624719e-02],\n",
       "       [7.10533859e-05, 5.43099036e-03, 5.04393727e-02, 7.89342448e-02,\n",
       "        6.73984408e-01, 1.91139966e-01]], dtype=float32)"
      ]
     },
     "execution_count": 151,
     "metadata": {},
     "output_type": "execute_result"
    }
   ],
   "source": [
    "predictions"
   ]
  },
  {
   "cell_type": "code",
   "execution_count": null,
   "metadata": {},
   "outputs": [],
   "source": [
    "# to get the probability"
   ]
  },
  {
   "cell_type": "code",
   "execution_count": 156,
   "metadata": {},
   "outputs": [],
   "source": [
    "probs = predictions.max(1)\n"
   ]
  },
  {
   "cell_type": "code",
   "execution_count": 157,
   "metadata": {},
   "outputs": [
    {
     "data": {
      "text/plain": [
       "array([0.81035167, 0.936009  , 0.54697573, 0.76636636, 0.82444775,\n",
       "       0.561225  , 0.7359526 , 0.771102  , 0.6631616 , 0.3966821 ,\n",
       "       0.7892087 , 0.4609404 , 0.45655832, 0.90602285, 0.6257935 ,\n",
       "       0.7323752 , 0.5208791 , 0.80764556, 0.95217615, 0.6739844 ],\n",
       "      dtype=float32)"
      ]
     },
     "execution_count": 157,
     "metadata": {},
     "output_type": "execute_result"
    }
   ],
   "source": [
    "probs"
   ]
  },
  {
   "cell_type": "code",
   "execution_count": 154,
   "metadata": {},
   "outputs": [
    {
     "name": "stdout",
     "output_type": "stream",
     "text": [
      "WARNING:tensorflow:From <ipython-input-154-f23e10fcee9b>:1: Sequential.predict_classes (from tensorflow.python.keras.engine.sequential) is deprecated and will be removed after 2021-01-01.\n",
      "Instructions for updating:\n",
      "Please use instead:* `np.argmax(model.predict(x), axis=-1)`,   if your model does multi-class classification   (e.g. if it uses a `softmax` last-layer activation).* `(model.predict(x) > 0.5).astype(\"int32\")`,   if your model does binary classification   (e.g. if it uses a `sigmoid` last-layer activation).\n"
     ]
    }
   ],
   "source": [
    "preds_classes = new_model.predict_classes(x_test)"
   ]
  },
  {
   "cell_type": "code",
   "execution_count": 155,
   "metadata": {},
   "outputs": [
    {
     "data": {
      "text/plain": [
       "array([4, 4, 3, 1, 4, 2, 4, 4, 4, 3, 4, 5, 4, 4, 2, 4, 4, 4, 4, 4])"
      ]
     },
     "execution_count": 155,
     "metadata": {},
     "output_type": "execute_result"
    }
   ],
   "source": [
    "preds_classes"
   ]
  },
  {
   "cell_type": "code",
   "execution_count": 152,
   "metadata": {},
   "outputs": [],
   "source": [
    "classes = np.argmax(predictions, axis=-1)\n"
   ]
  },
  {
   "cell_type": "code",
   "execution_count": 153,
   "metadata": {},
   "outputs": [
    {
     "data": {
      "text/plain": [
       "array([4, 4, 3, 1, 4, 2, 4, 4, 4, 3, 4, 5, 4, 4, 2, 4, 4, 4, 4, 4])"
      ]
     },
     "execution_count": 153,
     "metadata": {},
     "output_type": "execute_result"
    }
   ],
   "source": [
    "classes"
   ]
  },
  {
   "cell_type": "code",
   "execution_count": 134,
   "metadata": {},
   "outputs": [
    {
     "data": {
      "text/plain": [
       "array([[47, 17, 54, 90],\n",
       "       [95, 71, 84, 63],\n",
       "       [81, 25, 48, 35],\n",
       "       [75, 79, 14, 12],\n",
       "       [42, 91, 62, 41],\n",
       "       [ 7, 83, 62, 58],\n",
       "       [50,  1, 66, 31],\n",
       "       [43, 36,  8, 95],\n",
       "       [42, 27, 81, 95],\n",
       "       [73, 13,  5, 25],\n",
       "       [46, 61, 96, 27],\n",
       "       [12, 96, 97, 50],\n",
       "       [22, 44, 81, 63],\n",
       "       [65,  0, 91, 90],\n",
       "       [12, 74, 34, 48],\n",
       "       [60, 77, 94, 72],\n",
       "       [ 7, 42,  8, 62],\n",
       "       [52, 54, 89, 26],\n",
       "       [48, 82, 51,  3],\n",
       "       [10, 15, 42, 73]])"
      ]
     },
     "execution_count": 134,
     "metadata": {},
     "output_type": "execute_result"
    }
   ],
   "source": [
    "x_test"
   ]
  },
  {
   "cell_type": "code",
   "execution_count": 143,
   "metadata": {},
   "outputs": [
    {
     "name": "stdout",
     "output_type": "stream",
     "text": [
      "4\n"
     ]
    }
   ],
   "source": [
    "print(np.argmax(predictions[19]))"
   ]
  },
  {
   "cell_type": "code",
   "execution_count": null,
   "metadata": {},
   "outputs": [],
   "source": [
    "probs = model.predict(X_test)\n"
   ]
  },
  {
   "cell_type": "code",
   "execution_count": 147,
   "metadata": {},
   "outputs": [
    {
     "data": {
      "text/plain": [
       "array([[1.68902643e-05, 8.97302572e-03, 2.89548677e-03, 4.19625826e-02,\n",
       "        8.10351670e-01, 1.35800347e-01],\n",
       "       [1.42803483e-05, 4.48132958e-03, 6.02494460e-04, 5.46296798e-02,\n",
       "        9.36008990e-01, 4.26325947e-03],\n",
       "       [7.83943280e-04, 2.35293120e-01, 7.11715072e-02, 5.46975732e-01,\n",
       "        5.79619072e-02, 8.78137425e-02],\n",
       "       [3.78038891e-07, 7.66366363e-01, 3.29913193e-04, 2.13747486e-01,\n",
       "        1.54992538e-02, 4.05669212e-03],\n",
       "       [1.24655562e-05, 1.19096381e-04, 1.21080894e-02, 6.80591166e-02,\n",
       "        8.24447751e-01, 9.52534899e-02],\n",
       "       [5.42725611e-05, 2.87921692e-04, 5.61224997e-01, 3.43238637e-02,\n",
       "        1.01409927e-01, 3.02699000e-01],\n",
       "       [3.16483376e-04, 2.85629127e-02, 1.40342722e-02, 2.03391418e-01,\n",
       "        7.35952616e-01, 1.77422892e-02],\n",
       "       [3.26176905e-06, 4.01226096e-02, 6.40280321e-02, 1.04667939e-01,\n",
       "        7.71102011e-01, 2.00761762e-02],\n",
       "       [1.47443934e-05, 4.47248295e-03, 7.98664708e-03, 5.66514209e-02,\n",
       "        6.63161576e-01, 2.67713159e-01],\n",
       "       [1.06627813e-04, 3.14504385e-01, 6.81805238e-02, 3.96682113e-01,\n",
       "        1.55372269e-04, 2.20370978e-01],\n",
       "       [7.93869185e-05, 4.14454006e-03, 2.38820929e-02, 1.41531527e-02,\n",
       "        7.89208710e-01, 1.68532059e-01],\n",
       "       [2.75165098e-06, 1.03888480e-04, 3.83696884e-01, 6.14956208e-03,\n",
       "        1.49106532e-01, 4.60940391e-01],\n",
       "       [6.76734853e-05, 3.32601443e-02, 4.57216911e-02, 8.11618790e-02,\n",
       "        4.56558317e-01, 3.83230299e-01],\n",
       "       [4.01320540e-06, 1.28272949e-02, 1.90801872e-03, 2.91775987e-02,\n",
       "        9.06022847e-01, 5.00602685e-02],\n",
       "       [2.44550611e-04, 3.67622648e-04, 6.25793517e-01, 3.58156487e-02,\n",
       "        1.81046456e-01, 1.56732276e-01],\n",
       "       [2.19136018e-05, 3.65972333e-03, 4.54341527e-03, 1.40363470e-01,\n",
       "        7.32375205e-01, 1.19036295e-01],\n",
       "       [2.42603346e-04, 1.37894787e-02, 2.75632679e-01, 9.02864039e-02,\n",
       "        5.20879090e-01, 9.91697237e-02],\n",
       "       [1.78645481e-04, 8.09965748e-03, 3.42474878e-02, 4.05858792e-02,\n",
       "        8.07645559e-01, 1.09242834e-01],\n",
       "       [5.50870652e-07, 8.64433649e-04, 8.49989592e-04, 3.16465050e-02,\n",
       "        9.52176154e-01, 1.44624719e-02],\n",
       "       [7.10533859e-05, 5.43099036e-03, 5.04393727e-02, 7.89342448e-02,\n",
       "        6.73984408e-01, 1.91139966e-01]], dtype=float32)"
      ]
     },
     "execution_count": 147,
     "metadata": {},
     "output_type": "execute_result"
    }
   ],
   "source": [
    "predictions"
   ]
  },
  {
   "cell_type": "code",
   "execution_count": null,
   "metadata": {},
   "outputs": [],
   "source": []
  },
  {
   "cell_type": "code",
   "execution_count": 145,
   "metadata": {},
   "outputs": [
    {
     "data": {
      "text/plain": [
       "4"
      ]
     },
     "execution_count": 145,
     "metadata": {},
     "output_type": "execute_result"
    }
   ],
   "source": [
    "np.argmax(predictions[19])"
   ]
  },
  {
   "cell_type": "code",
   "execution_count": 146,
   "metadata": {},
   "outputs": [
    {
     "data": {
      "text/plain": [
       "array([7.1053386e-05, 5.4309904e-03, 5.0439373e-02, 7.8934245e-02,\n",
       "       6.7398441e-01, 1.9113997e-01], dtype=float32)"
      ]
     },
     "execution_count": 146,
     "metadata": {},
     "output_type": "execute_result"
    }
   ],
   "source": [
    "predictions[19]"
   ]
  },
  {
   "cell_type": "code",
   "execution_count": 137,
   "metadata": {},
   "outputs": [
    {
     "data": {
      "text/plain": [
       "112"
      ]
     },
     "execution_count": 137,
     "metadata": {},
     "output_type": "execute_result"
    }
   ],
   "source": [
    "np.argmax(predictions)"
   ]
  },
  {
   "cell_type": "code",
   "execution_count": 148,
   "metadata": {},
   "outputs": [
    {
     "data": {
      "text/plain": [
       "4"
      ]
     },
     "execution_count": 148,
     "metadata": {},
     "output_type": "execute_result"
    }
   ],
   "source": [
    "np.argmax(predictions[7])"
   ]
  },
  {
   "cell_type": "code",
   "execution_count": 86,
   "metadata": {},
   "outputs": [
    {
     "data": {
      "text/plain": [
       "0"
      ]
     },
     "execution_count": 86,
     "metadata": {},
     "output_type": "execute_result"
    }
   ],
   "source": [
    "np.argmax(predictions)"
   ]
  },
  {
   "cell_type": "code",
   "execution_count": 87,
   "metadata": {},
   "outputs": [
    {
     "data": {
      "text/plain": [
       "1"
      ]
     },
     "execution_count": 87,
     "metadata": {},
     "output_type": "execute_result"
    }
   ],
   "source": [
    "y[np.argmax(predictions)]"
   ]
  },
  {
   "cell_type": "code",
   "execution_count": null,
   "metadata": {},
   "outputs": [],
   "source": [
    "# Actions action = Y then +1 else "
   ]
  }
 ],
 "metadata": {
  "kernelspec": {
   "display_name": "Python 3",
   "language": "python",
   "name": "python3"
  },
  "language_info": {
   "codemirror_mode": {
    "name": "ipython",
    "version": 3
   },
   "file_extension": ".py",
   "mimetype": "text/x-python",
   "name": "python",
   "nbconvert_exporter": "python",
   "pygments_lexer": "ipython3",
   "version": "3.7.6"
  }
 },
 "nbformat": 4,
 "nbformat_minor": 4
}
